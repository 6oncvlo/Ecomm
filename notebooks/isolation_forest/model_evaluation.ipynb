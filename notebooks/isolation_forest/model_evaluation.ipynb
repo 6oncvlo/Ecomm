{
 "cells": [
  {
   "cell_type": "markdown",
   "metadata": {},
   "source": [
    "**Load libraries and config**"
   ]
  },
  {
   "cell_type": "code",
   "execution_count": null,
   "metadata": {},
   "outputs": [],
   "source": [
    "import sys\n",
    "import os\n",
    "\n",
    "# add the root of the project to the Python path\n",
    "sys.path.append(os.path.abspath('../..'))\n",
    "\n",
    "import yaml\n",
    "from src.data.data_loader import load_data, prepare_data\n",
    "from src.data.features import visitor_features\n",
    "from src.data.data_preparation import feature_selection\n",
    "import mlflow\n",
    "import itertools\n",
    "from src.models.clustering import AnomalyDetection\n",
    "from src.models.utils import predictions_correction, log_artifact\n",
    "from src.models.explainability import ModelExplainability\n",
    "from src.visuals.plots import kde_group"
   ]
  },
  {
   "cell_type": "code",
   "execution_count": null,
   "metadata": {},
   "outputs": [],
   "source": [
    "# read config\n",
    "with open('config.yml', 'r') as file:\n",
    "    config=yaml.load(file, Loader=yaml.SafeLoader)\n",
    "del file"
   ]
  },
  {
   "cell_type": "markdown",
   "metadata": {},
   "source": [
    "**Load visitorid features**"
   ]
  },
  {
   "cell_type": "code",
   "execution_count": null,
   "metadata": {},
   "outputs": [],
   "source": [
    "# load and prepare data\n",
    "data = load_data(data_paths = config['data_loader'])\n",
    "data = prepare_data(data = data, config = config['data_preparation'])"
   ]
  },
  {
   "cell_type": "code",
   "execution_count": null,
   "metadata": {},
   "outputs": [],
   "source": [
    "# create features at visitorid level and go through feature selection process\n",
    "features_visitor = visitor_features(data = data, config = config['data_preparation'], drop_bouncers=True)\n",
    "config['model']['anomaly_detection']['features'] = feature_selection(dataframe = features_visitor)\n",
    "del data"
   ]
  },
  {
   "cell_type": "markdown",
   "metadata": {},
   "source": [
    "**Fit Isolation Forest model**"
   ]
  },
  {
   "cell_type": "code",
   "execution_count": null,
   "metadata": {},
   "outputs": [],
   "source": [
    "# Set up MLflow tracking\n",
    "mlflow.set_tracking_uri(\"http://127.0.0.1:5000\")\n",
    "mlflow.set_experiment(experiment_name='Anomaly_Detection')\n",
    "mlflow.autolog(disable=True)\n",
    "\n",
    "# Prepare parameter combinations\n",
    "params_space = config['model']['anomaly_detection']['isolation_forest']['params']\n",
    "param_combinations = [\n",
    "    dict(zip(params_space.keys(), combo)) for combo in itertools.product(*params_space.values())\n",
    "]\n",
    "\n",
    "# each param combination is logged under a new run\n",
    "with mlflow.start_run(run_name='Isolation_Forest'):\n",
    "    for params in param_combinations:\n",
    "        with mlflow.start_run(nested=True):\n",
    "\n",
    "            # select isolation forest algo and respective params\n",
    "            if_Model = AnomalyDetection(method='isolation_forest', **params)\n",
    "\n",
    "            # train algorithm and infer prediction label and its score\n",
    "            if_Model.fit(features_visitor[config['model']['anomaly_detection']['features']])\n",
    "            features_visitor['anomaly_label'] = if_Model.predict(features_visitor[config['model']['anomaly_detection']['features']])\n",
    "            features_visitor['anomaly_score'] = if_Model.scoring(features_visitor[config['model']['anomaly_detection']['features']])\n",
    "            # predictions correction (rule-based)\n",
    "            #features_visitor = predictions_correction(dataframe = features_visitor)\n",
    "\n",
    "            if_ModelExplainability = ModelExplainability(model=if_Model, data=features_visitor[config['model']['anomaly_detection']['features']])\n",
    "\n",
    "            # logging\n",
    "            mlflow.log_dict(dictionary=config, artifact_file=\"config.yml\")\n",
    "            mlflow.log_params(params=params)\n",
    "            mlflow.sklearn.log_model(sk_model=if_Model.model, artifact_path='model_instance')\n",
    "            artifacts = [\n",
    "                ('visuals', None, None, 'kde_anomaly_score')\n",
    "                , ('stats', features_visitor.groupby(by=['anomaly_label'])['anomaly_score'].describe().round(2).reset_index(), 'anomaly_score_stats', None)\n",
    "                , ('feature_importance', if_ModelExplainability.feature_importance(), 'naive_feature_importance', None)\n",
    "                , ('feature_importance', if_ModelExplainability.shap_values.importance_values(), 'shap_feature_importance', None)\n",
    "                , ('stats',\n",
    "                   features_visitor.groupby(by=['anomaly_label']).agg({\n",
    "                       col: ['min', 'median', 'max', 'std'] for col in if_ModelExplainability.feature_importance().iloc[:10,].index.to_list()\n",
    "                       }).round(2).T, 'naive_top10_features_stats', None)\n",
    "                ]\n",
    "            kde_group(features_visitor, measure='anomaly_score', column_group='anomaly_label', xlabel='Anomaly Score', save_path='kde_anomaly_score')\n",
    "            for artifact_path, df, df_name, image_name in artifacts:\n",
    "                log_artifact(artifact_path, df, df_name, image_name)"
   ]
  },
  {
   "cell_type": "markdown",
   "metadata": {},
   "source": [
    "**Model Explainability**"
   ]
  },
  {
   "cell_type": "code",
   "execution_count": null,
   "metadata": {},
   "outputs": [],
   "source": [
    "if_ModelExplainability = ModelExplainability(model=if_Model, data=features_visitor[config['model']['anomaly_detection']['features']])\n",
    "\n",
    "#if_ModelExplainability.shap_values.plot(method='global')\n",
    "#if_ModelExplainability.tree_estimator()"
   ]
  },
  {
   "cell_type": "code",
   "execution_count": null,
   "metadata": {},
   "outputs": [],
   "source": [
    "# plot 1 or 2 features\n",
    "#kde_group(dataframe = features_visitor, measure = 'num_views', column_group='anomaly_label', xlabel='num_views')"
   ]
  }
 ],
 "metadata": {
  "kernelspec": {
   "display_name": ".venv",
   "language": "python",
   "name": "python3"
  },
  "language_info": {
   "codemirror_mode": {
    "name": "ipython",
    "version": 3
   },
   "file_extension": ".py",
   "mimetype": "text/x-python",
   "name": "python",
   "nbconvert_exporter": "python",
   "pygments_lexer": "ipython3",
   "version": "3.11.9"
  }
 },
 "nbformat": 4,
 "nbformat_minor": 2
}
