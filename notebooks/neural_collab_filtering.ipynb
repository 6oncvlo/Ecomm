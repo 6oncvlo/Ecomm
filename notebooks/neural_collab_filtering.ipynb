{
 "cells": [
  {
   "cell_type": "markdown",
   "metadata": {},
   "source": [
    "**Load libraries and config**"
   ]
  },
  {
   "cell_type": "code",
   "execution_count": 1,
   "metadata": {},
   "outputs": [],
   "source": [
    "import sys\n",
    "import os\n",
    "\n",
    "sys.path.append(os.path.abspath('..'))\n",
    "\n",
    "import numpy as np\n",
    "import yaml\n",
    "from src.data.data_loader import load_data, prepare_data, load_queries\n",
    "from src.data.data_preparation import feature_selection"
   ]
  },
  {
   "cell_type": "code",
   "execution_count": 2,
   "metadata": {},
   "outputs": [],
   "source": [
    "# read config\n",
    "with open('../config/config.yml', 'r') as file:\n",
    "    config=yaml.load(file, Loader= yaml.SafeLoader)\n",
    "del file"
   ]
  },
  {
   "cell_type": "markdown",
   "metadata": {},
   "source": [
    "**Load visitorid features**"
   ]
  },
  {
   "cell_type": "code",
   "execution_count": 3,
   "metadata": {},
   "outputs": [],
   "source": [
    "# load and prepare data\n",
    "data = load_data(data_paths= config['data_loader'])\n",
    "data = prepare_data(data= data, config= config['data_preparation'])"
   ]
  },
  {
   "cell_type": "code",
   "execution_count": 4,
   "metadata": {},
   "outputs": [],
   "source": [
    "# create features at visitorid level and go through feature selection process\n",
    "data_features = load_queries(data_paths= config['features'], data= data)\n",
    "features_visitor = data_features['visitor']\n",
    "config['model']['features'] = feature_selection(dataframe= features_visitor)"
   ]
  },
  {
   "cell_type": "code",
   "execution_count": null,
   "metadata": {},
   "outputs": [],
   "source": [
    "# Step 1: Filter relevant rows and select required columns\n",
    "ratings = (\n",
    "    data['events']\n",
    "    .loc[data['events']['visitorid'].isin(features_visitor.index)]\n",
    "    [['timestamp', 'visitorid', 'event', 'itemid']]\n",
    ")\n",
    "\n",
    "# Step 2: Drop duplicates, keeping the most recent record per (visitorid, itemid, event)\n",
    "ratings = (\n",
    "    ratings.sort_values(by='timestamp', ascending=False)\n",
    "    .drop_duplicates(subset=['visitorid', 'event', 'itemid'])\n",
    ")\n",
    "\n",
    "# Step 3: Add the 'rating' column\n",
    "ratings['rating'] = np.where(\n",
    "    ratings['event'] == 'view', 1,\n",
    "    np.where(ratings['event'] == 'addtocart', 2, 3)\n",
    ")\n",
    "\n",
    "# Step 4: Aggregate to (visitorid, itemid), keeping the highest rating and corresponding timestamp\n",
    "ratings = (\n",
    "    ratings.sort_values(by=['visitorid', 'itemid', 'rating', 'timestamp'], ascending=[True, True, False, False])\n",
    "    .groupby(['visitorid', 'itemid'], as_index=False)\n",
    "    .first()  # Keeps the first row within each group, which has the highest rating and latest timestamp\n",
    ")\n",
    "\n",
    "# Final output\n",
    "ratings = ratings[['visitorid', 'itemid', 'rating', 'timestamp']]"
   ]
  },
  {
   "cell_type": "code",
   "execution_count": null,
   "metadata": {},
   "outputs": [],
   "source": [
    "aux = ratings.groupby(by='visitorid').size().reset_index().rename(columns={0:'size'})\n",
    "aux[aux['size']>1].shape"
   ]
  }
 ],
 "metadata": {
  "kernelspec": {
   "display_name": ".venv",
   "language": "python",
   "name": "python3"
  },
  "language_info": {
   "codemirror_mode": {
    "name": "ipython",
    "version": 3
   },
   "file_extension": ".py",
   "mimetype": "text/x-python",
   "name": "python",
   "nbconvert_exporter": "python",
   "pygments_lexer": "ipython3",
   "version": "3.11.9"
  }
 },
 "nbformat": 4,
 "nbformat_minor": 2
}
