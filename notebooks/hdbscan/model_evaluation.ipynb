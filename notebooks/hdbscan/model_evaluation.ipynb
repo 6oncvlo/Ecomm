{
 "cells": [
  {
   "cell_type": "markdown",
   "metadata": {},
   "source": [
    "**Setup**\n",
    "\n",
    "- Import the required libraries and helper functions\n",
    "- Load configuration settings"
   ]
  },
  {
   "cell_type": "code",
   "execution_count": null,
   "metadata": {},
   "outputs": [],
   "source": [
    "import sys\n",
    "import os\n",
    "sys.path.append(os.path.abspath('../..'))\n",
    "\n",
    "import numpy as np\n",
    "import yaml\n",
    "import itertools\n",
    "import mlflow\n",
    "from src.data.data_loader import load_data, prepare_data\n",
    "from src.data.features import visitor_features\n",
    "from src.data.data_preparation import feature_selection\n",
    "from src.data.utils import downcast_cols, normalization\n",
    "from src.models.clustering import AnomalyDetection\n",
    "from src.models.utils import predictions_correction, log_artifact\n",
    "from src.models.explainability import ModelExplainability\n",
    "from src.visuals.plots import kde_group"
   ]
  },
  {
   "cell_type": "code",
   "execution_count": null,
   "metadata": {},
   "outputs": [],
   "source": [
    "# read config\n",
    "with open('config.yml', 'r') as file:\n",
    "    config=yaml.load(file, Loader=yaml.SafeLoader)"
   ]
  },
  {
   "cell_type": "markdown",
   "metadata": {},
   "source": [
    "**Data Loading and Feature Engineering**\n",
    "- Load raw data using specified paths from the configuration file and preprocesses it for modeling\n",
    "- Extracts visitor-level features and applies a feature selection process"
   ]
  },
  {
   "cell_type": "code",
   "execution_count": null,
   "metadata": {},
   "outputs": [],
   "source": [
    "# load and prepare raw data\n",
    "data = load_data(data_paths = config['data_loader'])\n",
    "data = prepare_data(data = data, config = config['data_preparation'])"
   ]
  },
  {
   "cell_type": "code",
   "execution_count": null,
   "metadata": {},
   "outputs": [],
   "source": [
    "# create visitor level features and perform feature selection\n",
    "features_visitor = visitor_features(data = data, config = config['data_preparation'], drop_bouncers=True)\n",
    "config['model']['anomaly_detection']['features'] = feature_selection(dataframe = features_visitor)\n",
    "\n",
    "# data normalization\n",
    "features_visitor = normalization(dataframe = features_visitor[config['model']['anomaly_detection']['features']], method = 'min_max')\n",
    "features_visitor = downcast_cols(dataframe = features_visitor)\n",
    "features_visitor = np.array(features_visitor)\n",
    "\n",
    "del data, file"
   ]
  },
  {
   "cell_type": "markdown",
   "metadata": {},
   "source": [
    "**Model Evalutation and Explainability**\n",
    "- Fit the HDBSCAN model using grid search over multiple parameter combinations\n",
    "- Leverages MLflow for tracking runs, logging metrics, and storing models"
   ]
  },
  {
   "cell_type": "code",
   "execution_count": null,
   "metadata": {},
   "outputs": [],
   "source": [
    "# prepare parameter combinations\n",
    "params_space = config['model']['anomaly_detection']['hdbscan']['params']\n",
    "param_combinations = [\n",
    "    dict(zip(params_space.keys(), combo)) for combo in itertools.product(*params_space.values())\n",
    "]"
   ]
  },
  {
   "cell_type": "code",
   "execution_count": null,
   "metadata": {},
   "outputs": [],
   "source": [
    "hdbscan_Model = AnomalyDetection(method='hdbscan', **params)\n",
    "\n",
    "# train algorithm and infer prediction label and its score\n",
    "hdbscan_Model.fit(features_visitor[config['model']['anomaly_detection']['features']])\n",
    "#features_visitor['anomaly_label'] = hdbscan_Model.predict(features_visitor[config['model']['anomaly_detection']['features']])\n",
    "#features_visitor['anomaly_score'] = hdbscan_Model.scoring(features_visitor[config['model']['anomaly_detection']['features']])"
   ]
  }
 ],
 "metadata": {
  "kernelspec": {
   "display_name": ".venv",
   "language": "python",
   "name": "python3"
  },
  "language_info": {
   "codemirror_mode": {
    "name": "ipython",
    "version": 3
   },
   "file_extension": ".py",
   "mimetype": "text/x-python",
   "name": "python",
   "nbconvert_exporter": "python",
   "pygments_lexer": "ipython3",
   "version": "3.11.9"
  }
 },
 "nbformat": 4,
 "nbformat_minor": 2
}
