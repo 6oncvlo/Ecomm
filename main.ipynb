{
 "cells": [
  {
   "cell_type": "code",
   "execution_count": null,
   "metadata": {},
   "outputs": [],
   "source": [
    "import sys\n",
    "import os\n",
    "\n",
    "\n",
    "# add the root of the project to the Python path\n",
    "sys.path.append(os.path.abspath('..'))\n",
    "\n",
    "import yaml\n",
    "from src.data.data_loader import load_data, prepare_data\n",
    "from src.data.features import visitor_features\n",
    "from src.models.clustering import AnomalyDetection\n",
    "from src.models.explainability import ModelExplainability"
   ]
  },
  {
   "cell_type": "code",
   "execution_count": null,
   "metadata": {},
   "outputs": [],
   "source": [
    "# read config\n",
    "with open('config/config.yml', 'r') as file:\n",
    "    config=yaml.load(file, Loader=yaml.SafeLoader)\n",
    "\n",
    "# load and prepare data\n",
    "data = load_data(data_paths = config['data_loader'])\n",
    "data = prepare_data(data = data, config = config['data_preparation'])"
   ]
  },
  {
   "cell_type": "code",
   "execution_count": null,
   "metadata": {},
   "outputs": [],
   "source": [
    "# create features at visitorid level\n",
    "features_visitor = visitor_features(data = data, config = config['data_preparation'], drop_bouncers=True)\n",
    "modeling_columns = features_visitor.columns\n",
    "del data"
   ]
  },
  {
   "cell_type": "code",
   "execution_count": null,
   "metadata": {},
   "outputs": [],
   "source": [
    "# select isolation forest algo and respective params\n",
    "if_params = config['model']['isolation_forest']['params']\n",
    "if_model = AnomalyDetection(method='isolation_forest', **if_params)\n",
    "\n",
    "# train algorithm and infer prediction label and its score\n",
    "if_model.fit(features_visitor[modeling_columns])\n",
    "features_visitor['anomaly_label'], features_visitor['anomaly_score'] = if_model.predict(features_visitor[modeling_columns]), if_model.scoring(features_visitor[modeling_columns])\n",
    "\n",
    "# find the number of anomalies and normal points here points classified -1 are anomalous\n",
    "print(features_visitor['anomaly_label'].value_counts())"
   ]
  },
  {
   "cell_type": "code",
   "execution_count": null,
   "metadata": {},
   "outputs": [],
   "source": [
    "# select dbscan algo and respective params\n",
    "dbscan_params = config['model']['dbscan']['params']\n",
    "dbscan_model = AnomalyDetection(method='dbscan', **dbscan_params)\n",
    "\n",
    "# train algorithm and infer prediction label and its score\n",
    "dbscan_model.fit(features_visitor[modeling_columns])\n",
    "features_visitor['dbscan_label'] = dbscan_model.model.labels_"
   ]
  },
  {
   "cell_type": "code",
   "execution_count": null,
   "metadata": {},
   "outputs": [],
   "source": [
    "from sklearn.metrics import silhouette_score\n",
    "\n",
    "features_visitor['dbscan_score'] = silhouette_score(\n",
    "    X=features_visitor.drop(columns=['dbscan_label'])\n",
    "    , labels=features_visitor['dbscan_label']\n",
    "    )"
   ]
  },
  {
   "cell_type": "code",
   "execution_count": null,
   "metadata": {},
   "outputs": [],
   "source": [
    "if_ModelExplainability = ModelExplainability(model=if_model, data=features_visitor[modeling_columns])\n",
    "\n",
    "#if_ModelExplainability.feature_importance()\n",
    "# if_ModelExplainability.shap_values.plot(method='global')\n",
    "#if_ModelExplainability.shap_values.importance_values()"
   ]
  },
  {
   "cell_type": "code",
   "execution_count": null,
   "metadata": {},
   "outputs": [],
   "source": [
    "from src.visuals.plots import kde_group\n",
    "\n",
    "kde_group(dataframe = features_visitor, measure = 'anomaly_score', column_group='anomaly_label', xlabel='Anomaly Score')"
   ]
  },
  {
   "cell_type": "code",
   "execution_count": null,
   "metadata": {},
   "outputs": [],
   "source": [
    "features_visitor.groupby(by=['anomaly_label']).agg({\n",
    "    'min_view_delta': ['min', 'mean', 'max']\n",
    "    , 'mean_view_delta': ['min', 'mean', 'max']\n",
    "    , 'max_view_delta': ['min', 'mean', 'max']\n",
    "    #, 'numevents_1824h': ['min', 'mean', 'max']\n",
    "    #, 'numevents_0006h': ['min', 'mean', 'max']\n",
    "    , 'total_events': ['min', 'mean', 'max']\n",
    "    , 'num_views': ['min', 'mean', 'max']\n",
    "    , 'repetitive_action_count': ['min', 'mean', 'max']\n",
    "    })"
   ]
  }
 ],
 "metadata": {
  "kernelspec": {
   "display_name": ".venv",
   "language": "python",
   "name": "python3"
  },
  "language_info": {
   "codemirror_mode": {
    "name": "ipython",
    "version": 3
   },
   "file_extension": ".py",
   "mimetype": "text/x-python",
   "name": "python",
   "nbconvert_exporter": "python",
   "pygments_lexer": "ipython3",
   "version": "3.11.9"
  }
 },
 "nbformat": 4,
 "nbformat_minor": 2
}
