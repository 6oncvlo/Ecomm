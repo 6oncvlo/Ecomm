{
 "cells": [
  {
   "cell_type": "code",
   "execution_count": 1,
   "metadata": {},
   "outputs": [],
   "source": [
    "import sys\n",
    "import os\n",
    "\n",
    "\n",
    "# add the root of the project to the Python path\n",
    "sys.path.append(os.path.abspath('..'))\n",
    "\n",
    "import yaml\n",
    "from src.data.data_loader import load_data, prepare_data\n",
    "from src.data.features import visitor_features\n",
    "from src.data.data_preparation import feature_selection\n",
    "from src.models.clustering import AnomalyDetection\n",
    "from src.models.explainability import ModelExplainability"
   ]
  },
  {
   "cell_type": "code",
   "execution_count": null,
   "metadata": {},
   "outputs": [],
   "source": [
    "# read config\n",
    "with open('config/config.yml', 'r') as file:\n",
    "    config=yaml.load(file, Loader=yaml.SafeLoader)\n",
    "\n",
    "# load and prepare data\n",
    "data = load_data(data_paths = config['data_loader'])\n",
    "data = prepare_data(data = data, config = config['data_preparation'])"
   ]
  },
  {
   "cell_type": "code",
   "execution_count": null,
   "metadata": {},
   "outputs": [],
   "source": [
    "# create features at visitorid level and go through feature selection process\n",
    "features_visitor = visitor_features(data = data, config = config['data_preparation'], drop_bouncers=True)\n",
    "features_visitor = feature_selection(dataframe = features_visitor)\n",
    "\n",
    "del data, file"
   ]
  },
  {
   "cell_type": "code",
   "execution_count": null,
   "metadata": {},
   "outputs": [],
   "source": [
    "# select isolation forest algo and respective params\n",
    "if_Model = AnomalyDetection(method='isolation_forest', **config['model']['isolation_forest']['params'])\n",
    "\n",
    "# train algorithm and infer prediction label and its score\n",
    "if_Model.fit(features_visitor)\n",
    "features_visitor['anomaly_label'], features_visitor['anomaly_score'] = if_Model.predict(features_visitor), if_Model.scoring(features_visitor)"
   ]
  },
  {
   "cell_type": "code",
   "execution_count": null,
   "metadata": {},
   "outputs": [],
   "source": [
    "if_ModelExplainability = ModelExplainability(model=if_Model, data=features_visitor.drop(columns=['anomaly_label', 'anomaly_score']))\n",
    "\n",
    "if_ModelExplainability.feature_importance()\n",
    "if_ModelExplainability.shap_values.plot(method='global')\n",
    "if_ModelExplainability.shap_values.importance_values()\n",
    "if_ModelExplainability.tree_estimator()"
   ]
  },
  {
   "cell_type": "code",
   "execution_count": null,
   "metadata": {},
   "outputs": [],
   "source": [
    "from src.visuals.plots import kde_group\n",
    "\n",
    "kde_group(dataframe = features_visitor, measure = 'anomaly_score', column_group='anomaly_label', xlabel='Anomaly Score')"
   ]
  },
  {
   "cell_type": "code",
   "execution_count": null,
   "metadata": {},
   "outputs": [],
   "source": [
    "features_visitor.groupby(by=['anomaly_label']).agg({\n",
    "    'min_view_delta': ['min', 'mean', 'max']\n",
    "    , 'mean_view_delta': ['min', 'mean', 'max']\n",
    "    , 'max_view_delta': ['min', 'mean', 'max']\n",
    "    #, 'numevents_1824h': ['min', 'mean', 'max']\n",
    "    #, 'numevents_0006h': ['min', 'mean', 'max']\n",
    "    , 'num_views': ['min', 'mean', 'max']\n",
    "    , 'repetitive_action_count': ['min', 'mean', 'max']\n",
    "    })"
   ]
  }
 ],
 "metadata": {
  "kernelspec": {
   "display_name": ".venv",
   "language": "python",
   "name": "python3"
  },
  "language_info": {
   "codemirror_mode": {
    "name": "ipython",
    "version": 3
   },
   "file_extension": ".py",
   "mimetype": "text/x-python",
   "name": "python",
   "nbconvert_exporter": "python",
   "pygments_lexer": "ipython3",
   "version": "3.11.9"
  }
 },
 "nbformat": 4,
 "nbformat_minor": 2
}
